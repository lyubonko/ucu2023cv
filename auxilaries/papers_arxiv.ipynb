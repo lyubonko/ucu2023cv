{
 "cells": [
  {
   "cell_type": "code",
   "execution_count": 84,
   "metadata": {
    "tags": []
   },
   "outputs": [],
   "source": [
    "# !pip install feedparser\n",
    "# !pip install beautifulsoup4\n",
    "# !pip install lxml"
   ]
  },
  {
   "cell_type": "markdown",
   "metadata": {},
   "source": [
    "## Paper parser"
   ]
  },
  {
   "cell_type": "code",
   "execution_count": 85,
   "metadata": {
    "tags": []
   },
   "outputs": [],
   "source": [
    "import feedparser\n",
    "from bs4 import BeautifulSoup"
   ]
  },
  {
   "cell_type": "code",
   "execution_count": 86,
   "metadata": {
    "tags": []
   },
   "outputs": [
    {
     "data": {
      "text/plain": [
       "0"
      ]
     },
     "execution_count": 86,
     "metadata": {},
     "output_type": "execute_result"
    }
   ],
   "source": [
    "feed = feedparser.parse('http://arxiv.org/rss/cs')\n",
    "len(feed['entries'])"
   ]
  },
  {
   "cell_type": "code",
   "execution_count": 77,
   "metadata": {
    "tags": []
   },
   "outputs": [],
   "source": [
    "papers = []\n",
    "for entry in feed['entries']:\n",
    "    \n",
    "    soup = BeautifulSoup(entry['author'], \"html.parser\")\n",
    "    \n",
    "    paper_id = entry.id.split('/')[-1]\n",
    "    paper_title = entry['title'].split('.')[0]\n",
    "    paper_abs = entry['summary'][3:-4]\n",
    "    \n",
    "    authors = []\n",
    "    for tag in soup.find_all('a', href=True):\n",
    "        authors.append(tag.contents[0])\n",
    "    \n",
    "    paper_entry = {\n",
    "        'id': paper_id,\n",
    "        'title': paper_title,\n",
    "        'authors': authors,\n",
    "        'abstract': paper_abs\n",
    "    }\n",
    "    \n",
    "    papers.append(paper_entry)"
   ]
  },
  {
   "cell_type": "code",
   "execution_count": 78,
   "metadata": {
    "tags": []
   },
   "outputs": [],
   "source": [
    "authors_list = [\n",
    "    # --- general\n",
    "    'Geoffrey E. Hinton',\n",
    "    # --- nlp\n",
    "    'Graham Neubig',\n",
    "    'Christopher D. Manning',  \n",
    "    'Thomas Wolf',\n",
    "    'Alexander M. Rush',\n",
    "    'Dan Jurafsky',\n",
    "    # --- conv-nets (and related stuff)\n",
    "    'Jifeng Dai',\n",
    "    'Ross Girshick',\n",
    "    'Vladlen Koltun',\n",
    "    # --- math, equivariance\n",
    "    'Taco Cohen',\n",
    "    'Max Welling',\n",
    "]"
   ]
  },
  {
   "cell_type": "code",
   "execution_count": 79,
   "metadata": {
    "tags": []
   },
   "outputs": [],
   "source": [
    "key_words = [\n",
    "    # --- nlp\n",
    "    'bert',\n",
    "    'syntax',\n",
    "    'semantics'\n",
    "    # --- math-charged\n",
    "    'equivariant',\n",
    "    'manifold',\n",
    "    'sheaf',\n",
    "    'homology',\n",
    "]"
   ]
  },
  {
   "cell_type": "code",
   "execution_count": 80,
   "metadata": {
    "tags": []
   },
   "outputs": [],
   "source": [
    "key_words_pairs = [\n",
    "    # --- nlp\n",
    "    ('common', 'sense'),\n",
    "    ('grammatical', 'error'),   \n",
    "    # --- math\n",
    "    ('category', 'theory'),\n",
    "    ('diffential', 'geometry'),\n",
    "    ('lie', 'group'),\n",
    "    ('field', 'theory'),\n",
    "    ('optimal', 'transport')\n",
    "]\n",
    "key_words_triples = [\n",
    "    # --- nlp\n",
    "    ('grammatical', 'error', 'correction')\n",
    "]\n",
    "\n",
    "key_words_pairs = [' '.join(ks) for ks in key_words_pairs]\n",
    "key_words_triples = [' '.join(ks) for ks in key_words_triples]"
   ]
  },
  {
   "cell_type": "code",
   "execution_count": null,
   "metadata": {},
   "outputs": [],
   "source": []
  },
  {
   "cell_type": "code",
   "execution_count": 81,
   "metadata": {
    "tags": []
   },
   "outputs": [
    {
     "name": "stdout",
     "output_type": "stream",
     "text": [
      "=== author based search:\n",
      "\n",
      "Noah A. Smith\n",
      "Time is Encoded in the Weights of Finetuned Language Models\n",
      "https://arxiv.org/pdf/2312.13401.pdf\n",
      "\n",
      "Jifeng Dai\n",
      "A Survey of Reasoning with Foundation Models: Concepts, Methodologies, and Outlook\n",
      "https://arxiv.org/pdf/2312.11562.pdf\n",
      "\n"
     ]
    }
   ],
   "source": [
    "print(\"=== author based search:\\n\")\n",
    "for p in papers:\n",
    "    for a in p['authors']:\n",
    "        if a in authors_list:\n",
    "            print(a)\n",
    "            print(p['title'])\n",
    "            print(\"https://arxiv.org/pdf/\" + p['id'] + \".pdf\")\n",
    "            print()\n",
    "            break"
   ]
  },
  {
   "cell_type": "code",
   "execution_count": 82,
   "metadata": {
    "tags": []
   },
   "outputs": [
    {
     "name": "stdout",
     "output_type": "stream",
     "text": [
      "=== title/abstract based search:\n",
      "\n",
      "Not All Steps are Equal: Efficient Generation with Progressive Diffusion Models\n",
      "Wenhao Li, Xiu Su, Shan You, Tao Huang, Fei Wang, Chen Qian, Chang Xu\n",
      "https://arxiv.org/pdf/2312.13307.pdf\n",
      "\n",
      "Generate E-commerce Product Background by Integrating Category Commonality and Personalized Style\n",
      "Haohan Wang, Wei Feng, Yang Lu, Yaoyu Li, Zheng Zhang, Jingjing Lv, Xin Zhu, Junjie Shen, Zhangang Lin, Lixing Bo, Jingping Shao\n",
      "https://arxiv.org/pdf/2312.13309.pdf\n",
      "\n",
      "Unlocking Pre-trained Image Backbones for Semantic Image Synthesis\n",
      "Tariq Berrada, Jakob Verbeek, Camille Couprie, Karteek Alahari\n",
      "https://arxiv.org/pdf/2312.13314.pdf\n",
      "\n",
      "ShowRoom3D: Text to High-Quality 3D Room Generation Using 3D Priors\n",
      "Weijia Mao, Yan-Pei Cao, Jia-Wei Liu, Zhongcong Xu, Mike Zheng Shou\n",
      "https://arxiv.org/pdf/2312.13324.pdf\n",
      "\n",
      "How to Prune Your Language Model: Recovering Accuracy on the \"Sparsity May Cry'' Benchmark\n",
      "Eldar Kurtic, Torsten Hoefler, Dan Alistarh\n",
      "https://arxiv.org/pdf/2312.13547.pdf\n",
      "\n",
      "DREAM-Talk: Diffusion-based Realistic Emotional Audio-driven Method for Single Image Talking Face Generation\n",
      "Chenxu Zhang, Chao Wang, Jianfeng Zhang, Hongyi Xu, Guoxian Song, You Xie, Linjie Luo, Yapeng Tian, Xiaohu Guo, Jiashi Feng\n",
      "https://arxiv.org/pdf/2312.13578.pdf\n",
      "\n",
      "Navigating the Structured What-If Spaces: Counterfactual Generation via Structured Diffusion\n",
      "Nishtha Madaan, Srikanta Bedathur\n",
      "https://arxiv.org/pdf/2312.13616.pdf\n",
      "\n",
      "Diff-Oracle: Diffusion Model for Oracle Character Generation with Controllable Styles and Contents\n",
      "Jing Li, Qiu-Feng Wang, Kaizhu Huang, Rui Zhang, Siyuan Wang\n",
      "https://arxiv.org/pdf/2312.13631.pdf\n",
      "\n",
      "Free-Editor: Zero-shot Text-driven 3D Scene Editing\n",
      "Nazmul Karim, Umar Khalid, Hasan Iqbal, Jing Hua, Chen Chen\n",
      "https://arxiv.org/pdf/2312.13663.pdf\n",
      "\n",
      "Align Your Gaussians: Text-to-4D with Dynamic 3D Gaussians and Composed Diffusion Models\n",
      "Huan Ling, Seung Wook Kim, Antonio Torralba, Sanja Fidler, Karsten Kreis\n",
      "https://arxiv.org/pdf/2312.13763.pdf\n",
      "\n",
      "A Semantic Space is Worth 256 Language Descriptions: Make Stronger Segmentation Models with Descriptive Properties\n",
      "Junfei Xiao, Ziqi Zhou, Wenxuan Li, Shiyi Lan, Jieru Mei, Zhiding Yu, Alan Yuille, Yuyin Zhou, Cihang Xie\n",
      "https://arxiv.org/pdf/2312.13764.pdf\n",
      "\n",
      "Exploiting Contextual Target Attributes for Target Sentiment Classification\n",
      "Bowen Xing, Ivor W. Tsang\n",
      "https://arxiv.org/pdf/2312.13766.pdf\n",
      "\n",
      "Fairy: Fast Parallelized Instruction-Guided Video-to-Video Synthesis\n",
      "Bichen Wu, Ching-Yao Chuang, Xiaoyan Wang, Yichen Jia, Kapil Krishnakumar, Tong Xiao, Feng Liang, Licheng Yu, Peter Vajda\n",
      "https://arxiv.org/pdf/2312.13834.pdf\n",
      "\n",
      "Paint3D: Paint Anything 3D with Lighting-Less Texture Diffusion Models\n",
      "Xianfang Zeng\n",
      "https://arxiv.org/pdf/2312.13913.pdf\n",
      "\n",
      "Controllable 3D Face Generation with Conditional Style Code Diffusion\n",
      "Xiaolong Shen, Jianxin Ma, Chang Zhou, Zongxin Yang\n",
      "https://arxiv.org/pdf/2312.13941.pdf\n",
      "\n",
      "ChatGPT as a commenter to the news: can LLMs generate human-like opinions?\n",
      "Rayden Tseng, Suzan Verberne, Peter van der Putten\n",
      "https://arxiv.org/pdf/2312.13961.pdf\n",
      "\n",
      "On Partial Optimal Transport: Revising the Infeasibility of Sinkhorn and Efficient Gradient Methods\n",
      "Anh Duc Nguyen, Tuan Dung Nguyen, Quang Minh Nguyen, Hoang H. Nguyen, Kim-Chuan Toh\n",
      "https://arxiv.org/pdf/2312.13970.pdf\n",
      "\n",
      "Carve3D: Improving Multi-view Reconstruction Consistency for Diffusion Models with RL Finetuning\n",
      "Desai Xie, Jiahao Li, Hao Tan, Xin Sun, Zhixin Shu, Yi Zhou, Sai Bi, Sören Pirk, Arie E. Kaufman\n",
      "https://arxiv.org/pdf/2312.13980.pdf\n",
      "\n",
      "Designing Artificial Intelligence Equipped Social Decentralized Autonomous Organizations for Tackling Sextortion Cases Version 0\n",
      "Norta Alex, Makrygiannis Sotiris\n",
      "https://arxiv.org/pdf/2312.14090.pdf\n",
      "\n",
      "HD-Painter: High-Resolution and Prompt-Faithful Text-Guided Image Inpainting with Diffusion Models\n",
      "Hayk Manukyan, Andranik Sargsyan, Barsegh Atanyan, Zhangyang Wang, Shant Navasardyan, Humphrey Shi\n",
      "https://arxiv.org/pdf/2312.14091.pdf\n",
      "\n",
      "Neural Point Cloud Diffusion for Disentangled 3D Shape and Appearance Generation\n",
      "Philipp Schröppel, Christopher Wewer, Jan Eric Lenssen, Eddy Ilg, Thomas Brox\n",
      "https://arxiv.org/pdf/2312.14124.pdf\n",
      "\n",
      "Diffusion Reward: Learning Rewards via Conditional Video Diffusion\n",
      "Tao Huang, Guangqi Jiang, Yanjie Ze, Huazhe Xu\n",
      "https://arxiv.org/pdf/2312.14134.pdf\n",
      "\n",
      "Revisiting Foreground and Background Separation in Weakly-supervised Temporal Action Localization: A Clustering-based Approach\n",
      "Qinying Liu, Zilei Wang, Shenghai Rong, Junjie Li, Yixin Zhang\n",
      "https://arxiv.org/pdf/2312.14138.pdf\n",
      "\n",
      "Nonlinear Attitude Estimation Using Intermittent and Multi-Rate Vector Measurements\n",
      "Miaomiao Wang, Abdelhamid Tayebi\n",
      "https://arxiv.org/pdf/2210.11510.pdf\n",
      "\n",
      "DiffBlender: Scalable and Composable Multimodal Text-to-Image Diffusion Models\n",
      "Sungnyun Kim, Junsoo Lee, Kibeom Hong, Daesik Kim, Namhyuk Ahn\n",
      "https://arxiv.org/pdf/2305.15194.pdf\n",
      "\n",
      "Unifying GANs and Score-Based Diffusion as Generative Particle Models\n",
      "Jean-Yves Franceschi, Mike Gartrell, Ludovic Dos Santos, Thibaut Issenhuth, Emmanuel de Bézenac, Mickaël Chen, Alain Rakotomamonjy\n",
      "https://arxiv.org/pdf/2305.16150.pdf\n",
      "\n",
      "RAPHAEL: Text-to-Image Generation via Large Mixture of Diffusion Paths\n",
      "Zeyue Xue, Guanglu Song, Qiushan Guo, Boxiao Liu, Zhuofan Zong, Yu Liu, Ping Luo\n",
      "https://arxiv.org/pdf/2305.18295.pdf\n",
      "\n",
      "One-Line-of-Code Data Mollification Improves Optimization of Likelihood-based Generative Models\n",
      "Ba-Hien Tran, Giulio Franzese, Pietro Michiardi, Maurizio Filippone\n",
      "https://arxiv.org/pdf/2305.18900.pdf\n",
      "\n",
      "Layer-wise Representation Fusion for Compositional Generalization\n",
      "Yafang Zheng, Lei Lin, Shuangtao Li, Yuxuan Yuan, Zhaohong Lai, Shan Liu, Biao Fu, Yidong Chen, Xiaodong Shi\n",
      "https://arxiv.org/pdf/2307.10799.pdf\n",
      "\n",
      "Limitations of Face Image Generation\n",
      "Harrison Rosenberg, Shimaa Ahmed, Guruprasad V Ramesh, Ramya Korlakai Vinayak, Kassem Fawaz\n",
      "https://arxiv.org/pdf/2309.07277.pdf\n",
      "\n",
      "Diffusion Generative Flow Samplers: Improving learning signals through partial trajectory optimization\n",
      "Dinghuai Zhang, Ricky T. Q. Chen, Cheng-Hao Liu, Aaron Courville, Yoshua Bengio\n",
      "https://arxiv.org/pdf/2310.02679.pdf\n",
      "\n",
      "Domain Transfer in Latent Space (DTLS) Wins on Image Super-Resolution -- a Non-Denoising Model\n",
      "Chun-Chuen Hui, Wan-Chi Siu, Ngai-Fong Law\n",
      "https://arxiv.org/pdf/2311.02358.pdf\n",
      "\n",
      "Reducing Spatial Fitting Error in Distillation of Denoising Diffusion Models\n",
      "Shengzhe Zhou, Zejian Lee, Shengyuan Zhang, Lefan Hou, Changyuan Yang, Guang Yang, Zhiyuan Yang, Lingyun Sun\n",
      "https://arxiv.org/pdf/2311.03830.pdf\n",
      "\n",
      "CoSeR: Bridging Image and Language for Cognitive Super-Resolution\n",
      "Haoze Sun, Wenbo Li, Jianzhuang Liu, Haoyu Chen, Renjing Pei, Xueyi Zou, Youliang Yan, Yujiu Yang\n",
      "https://arxiv.org/pdf/2311.16512.pdf\n",
      "\n",
      "Gaussian3Diff: 3D Gaussian Diffusion for 3D Full Head Synthesis and Editing\n",
      "Yushi Lan, Feitong Tan, Di Qiu, Qiangeng Xu, Kyle Genova, Zeng Huang, Sean Fanello, Rohit Pandey, Thomas Funkhouser, Chen Change Loy, Yinda Zhang\n",
      "https://arxiv.org/pdf/2312.03763.pdf\n",
      "\n",
      "FAAC: Facial Animation Generation with Anchor Frame and Conditional Control for Superior Fidelity and Editability\n",
      "Linze Li, Sunqi Fan, Hengjun Pu, Zhaodong Bing, Yao Tang, Tianzhu Ye, Tong Yang, Liangyu Chen, Jiajun Liang\n",
      "https://arxiv.org/pdf/2312.03775.pdf\n",
      "\n",
      "SpeedUpNet: A Plug-and-Play Hyper-Network for Accelerating Text-to-Image Diffusion Models\n",
      "Weilong Chai, DanDan Zheng, Jiajiong Cao, Zhiquan Chen, Changbao Wang, Chenguang Ma\n",
      "https://arxiv.org/pdf/2312.08887.pdf\n",
      "\n",
      "MAG-Edit: Localized Image Editing in Complex Scenarios via Mask-Based Attention-Adjusted Guidance\n",
      "Qi Mao, Lan Chen, Yuchao Gu, Zhen Fang, Mike Zheng Shou\n",
      "https://arxiv.org/pdf/2312.11396.pdf\n",
      "\n",
      "RealCraft: Attention Control as A Solution for Zero-shot Long Video Editing\n",
      "Shutong Jin, Ruiyu Wang, Florian T. Pokorny\n",
      "https://arxiv.org/pdf/2312.12635.pdf\n",
      "\n",
      "AMD:Anatomical Motion Diffusion with Interpretable Motion Decomposition and Fusion\n",
      "Beibei Jing, Youjia Zhang, Zikai Song, Junqing Yu, Wei Yang\n",
      "https://arxiv.org/pdf/2312.12763.pdf\n",
      "\n",
      "DiffPortrait3D: Controllable Diffusion for Zero-Shot Portrait View Synthesis\n",
      "Yuming Gu, Hongyi Xu, You Xie, Guoxian Song, Yichun Shi, Di Chang, Jing Yang, Linjie Luo\n",
      "https://arxiv.org/pdf/2312.13016.pdf\n",
      "\n",
      "Repaint123: Fast and High-quality One Image to 3D Generation with Progressive Controllable 2D Repainting\n",
      "Junwu Zhang, Zhenyu Tang, Yatian Pang, Xinhua Cheng, Peng Jin, Yida Wei, Munan Ning, Li Yuan\n",
      "https://arxiv.org/pdf/2312.13271.pdf\n",
      "\n"
     ]
    }
   ],
   "source": [
    "interesting_items = []\n",
    "for p in papers:\n",
    "\n",
    "    words_title = [t.lower() for t in p['title'].split(\" \")]\n",
    "    pairs_title = [w1 + ' ' + w2 for (w1, w2) in zip(words_title[:-1], words_title[1:])]\n",
    "    triples_title = [' '.join(ws) for ws in zip(words_title[:-2], words_title[1:-1], words_title[2:])]    \n",
    "    \n",
    "    words_abs = [t.lower().strip(',:;.?!') for t in p['abstract'].replace(\"\\n\",\" \").split(\" \")]\n",
    "    pairs_abs = [w1 + ' ' + w2 for (w1, w2) in zip(words_abs[:-1], words_abs[1:])]\n",
    "    triples_abs = [' '.join(ws) for ws in zip(words_abs[:-2], words_abs[1:-1], words_abs[2:])]\n",
    "    \n",
    "    found = False\n",
    "    for k in key_words:  \n",
    "        if k in words_title or k in words_abs:\n",
    "            found=True\n",
    "            break\n",
    "    if found:\n",
    "        interesting_items.append(p) \n",
    "        continue\n",
    "        \n",
    "    # pairs   \n",
    "    found = False\n",
    "    for kp in key_words_pairs:\n",
    "        if kp in pairs_title or kp in pairs_abs:\n",
    "            found=True\n",
    "            break\n",
    "    if found:\n",
    "        interesting_items.append(p)\n",
    "        continue\n",
    "        \n",
    "    # triples   \n",
    "    found = False\n",
    "    for kt in key_words_triples:\n",
    "        if kt in triples_title or kt in triples_abs:\n",
    "            found=True\n",
    "            break\n",
    "    if found:\n",
    "        interesting_items.append(p)   \n",
    "        continue\n",
    "\n",
    "print(\"=== title/abstract based search:\\n\")         \n",
    "for p in interesting_items:\n",
    "    print(p['title'])\n",
    "    print(', '.join(p['authors']))    \n",
    "    print(\"https://arxiv.org/pdf/\" + p['id'] + \".pdf\")\n",
    "    #print(p['abstract'])\n",
    "    print()        "
   ]
  }
 ],
 "metadata": {
  "kernelspec": {
   "display_name": "py38",
   "language": "python",
   "name": "py38"
  },
  "language_info": {
   "codemirror_mode": {
    "name": "ipython",
    "version": 3
   },
   "file_extension": ".py",
   "mimetype": "text/x-python",
   "name": "python",
   "nbconvert_exporter": "python",
   "pygments_lexer": "ipython3",
   "version": "3.8.18"
  }
 },
 "nbformat": 4,
 "nbformat_minor": 4
}
